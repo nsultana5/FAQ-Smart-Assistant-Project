{
  "nbformat": 4,
  "nbformat_minor": 0,
  "metadata": {
    "colab": {
      "provenance": []
    },
    "kernelspec": {
      "name": "python3",
      "display_name": "Python 3"
    },
    "language_info": {
      "name": "python"
    }
  },
  "cells": [
    {
      "cell_type": "markdown",
      "source": [],
      "metadata": {
        "id": "vhIlqwZi8Qui"
      }
    },
    {
      "cell_type": "code",
      "source": [
        "# Importing required libraries\n",
        "from sklearn.feature_extraction.text import TfidfVectorizer\n",
        "from sklearn.metrics.pairwise import cosine_similarity\n"
      ],
      "metadata": {
        "id": "9tgnOXT48a5h"
      },
      "execution_count": 2,
      "outputs": []
    },
    {
      "cell_type": "code",
      "source": [
        "# Define FAQ data\n",
        "faq_data={\n",
        "    \"Do you offer delivery?\": \"Yes, we provide delivery service for all orders above 500 BDT.\",\n",
        "    \"Where are you located?\": \"We are located at 345 Main Road , Gazipur.\",\n",
        "    \"Can I return a product?\": \"You can return a product within 7 days of delivery.\",\n",
        "    \"What are your business hours?\": \"We are open from 8 AM to 8 PM, every day except Fridays.\",\n",
        "    \"How can I track my order?\": \"You can track your order using the tracking ID sent to your email.\",\n",
        "    \"Do you offer customer support?\":\"Yes , our customer support is available 24/7 via phone or chat.\",\n",
        "    \"What payment methods do you accept?\": \"We accept credit/debit cards , mobile banking , and cash on delivery.\"\n",
        "\n",
        "\n",
        "\n",
        "}"
      ],
      "metadata": {
        "id": "O7IqzTs29D8z"
      },
      "execution_count": 3,
      "outputs": []
    },
    {
      "cell_type": "code",
      "source": [
        "# Create a function to get the most relevant FAQ answer\n",
        "def get_faq_answer(user_query:str)->str:\n",
        "  questions=list(faq_data.keys())                                           #Combine all FAQ questions into a list\n",
        "  vectorizer=TfidfVectorizer()                                              #Vectorize the questions and the user's query\n",
        "  tfidf_matrix=vectorizer.fit_transform(questions+ [user_query])\n",
        "  similarity_scores=cosine_similarity(tfidf_matrix[-1],tfidf_matrix[:-1])   #Compute cosine similarity between the user query and all FAQ questions\n",
        "  best_match_index=similarity_scores.argmax()                               #find the index of the best match\n",
        "  best_match_score=similarity_scores[0,best_match_index]\n",
        "\n",
        "  if best_match_score>= 0.4:                                                 #Decide if the match is good enough (eg.threshold=0.4)\n",
        "    matched_question=questions[best_match_index]\n",
        "    return faq_data[matched_question]\n",
        "\n",
        "  else:\n",
        "    return \"Sorry, I couldn't find a suitable answer to your question.\"\n",
        "\n",
        "\n"
      ],
      "metadata": {
        "id": "o111vUN19D_6"
      },
      "execution_count": 5,
      "outputs": []
    }
  ]
}